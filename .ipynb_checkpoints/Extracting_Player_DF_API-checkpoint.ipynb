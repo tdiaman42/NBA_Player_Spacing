{
 "cells": [
  {
   "cell_type": "code",
   "execution_count": 1,
   "metadata": {},
   "outputs": [],
   "source": [
    "# Data and NBA API\n",
    "import pandas as pd\n",
    "import numpy as np\n",
    "\n",
    "from scipy.stats import norm, gaussian_kde, percentileofscore\n",
    "\n",
    "pd.options.display.max_columns = None\n",
    "from nba_api.stats.static import players\n",
    "from nba_api.stats.endpoints import shotchartdetail\n",
    "from nba_api.stats.endpoints import playercareerstats\n",
    "\n",
    "# For Shot Chart\n",
    "import matplotlib.pyplot as plt\n",
    "import seaborn as sns\n",
    "\n",
    "from matplotlib import cm\n",
    "from matplotlib.patches import Circle, Rectangle, Arc, ConnectionPatch\n",
    "from matplotlib.patches import Polygon\n",
    "from matplotlib.collections import PatchCollection\n",
    "from matplotlib.colors import LinearSegmentedColormap, ListedColormap, BoundaryNorm\n",
    "from matplotlib.path import Path\n",
    "from matplotlib.patches import PathPatch\n",
    "\n",
    "sns.set_style('white')\n",
    "sns.set_color_codes()"
   ]
  },
  {
   "cell_type": "code",
   "execution_count": 2,
   "metadata": {},
   "outputs": [],
   "source": [
    "def get_player_shotchartdetail(player_name, season_id):\n",
    "    \"\"\"\n",
    "    Parameters\n",
    "    ----------\n",
    "    player_name: name of the player with Capital\n",
    "    season_id: ex. 2012-13\n",
    "    \"\"\"\n",
    "    \n",
    "    # player dictionary\n",
    "    nba_players = players.get_players()\n",
    "    player_dict = [player for player in nba_players if player['full_name'] == player_name][0]\n",
    "    \n",
    "    # career df\n",
    "    career = playercareerstats.PlayerCareerStats(player_id=player_dict['id'])\n",
    "    career_df = career.get_data_frames()[0]\n",
    "    \n",
    "    # team id during the season\n",
    "    team_id = career_df[career_df['SEASON_ID'] == season_id]['TEAM_ID']\n",
    "    \n",
    "    # shotchardtdetail endpoint\n",
    "    shotchartlist = shotchartdetail.ShotChartDetail(team_id=int(team_id), \n",
    "                                                   player_id=int(player_dict['id']), \n",
    "                                                   season_type_all_star='Regular Season', \n",
    "                                                   season_nullable=season_id,\n",
    "                                                   context_measure_simple=\"FGA\").get_data_frames()\n",
    "    \n",
    "    return shotchartlist[0], shotchartlist[1]"
   ]
  },
  {
   "cell_type": "code",
   "execution_count": 20,
   "metadata": {},
   "outputs": [],
   "source": [
    "player_shotchart_df, league_avg = get_player_shotchartdetail('Damian Lillard', '2019-20')"
   ]
  },
  {
   "cell_type": "code",
   "execution_count": 25,
   "metadata": {},
   "outputs": [],
   "source": [
    "#dict_of_players = {'Damian Lillard': '', 'Joel Embiid': '', 'Ben Simmons': ''}\n",
    "\n",
    "player_dict = {'Damian Lillard': '2019-20', 'Joel Embiid': '2019-20', 'Ben Simmons': '2019-20'}\n",
    "\n",
    "\n",
    "\n",
    "def extract_players_API(dict_of_player_and_season):\n",
    "    \n",
    "    dict_of_players_pd_df = {}\n",
    "    \n",
    "    for player in dict_of_player_and_season.keys():\n",
    "        player_shot_chart_df, league_avg = get_player_shotchartdetail(player, dict_of_player_and_season[player])\n",
    "        dict_of_players_pd_df[player] = player_shot_chart_df\n",
    "        \n",
    "    return dict_of_players_pd_df.keys()\n"
   ]
  },
  {
   "cell_type": "code",
   "execution_count": 26,
   "metadata": {},
   "outputs": [
    {
     "data": {
      "text/plain": [
       "dict_keys(['Damian Lillard', 'Joel Embiid', 'Ben Simmons'])"
      ]
     },
     "execution_count": 26,
     "metadata": {},
     "output_type": "execute_result"
    }
   ],
   "source": [
    "extract_players_API(player_dict)"
   ]
  },
  {
   "cell_type": "code",
   "execution_count": null,
   "metadata": {},
   "outputs": [],
   "source": []
  },
  {
   "cell_type": "code",
   "execution_count": null,
   "metadata": {},
   "outputs": [],
   "source": []
  }
 ],
 "metadata": {
  "kernelspec": {
   "display_name": "Python 3",
   "language": "python",
   "name": "python3"
  },
  "language_info": {
   "codemirror_mode": {
    "name": "ipython",
    "version": 3
   },
   "file_extension": ".py",
   "mimetype": "text/x-python",
   "name": "python",
   "nbconvert_exporter": "python",
   "pygments_lexer": "ipython3",
   "version": "3.8.3"
  }
 },
 "nbformat": 4,
 "nbformat_minor": 4
}
